{
 "cells": [
  {
   "cell_type": "code",
   "execution_count": 34,
   "metadata": {},
   "outputs": [],
   "source": [
    "import os, pathlib, time\n",
    "from io import BytesIO\n",
    "from PIL import Image, ImageDraw\n",
    "\n",
    "from azure.cognitiveservices.vision.computervision import ComputerVisionClient\n",
    "from azure.cognitiveservices.vision.computervision.models import OperationStatusCodes\n",
    "from msrest.authentication import CognitiveServicesCredentials\n",
    "from dotenv import load_dotenv\n",
    "import openai\n",
    "import os"
   ]
  },
  {
   "cell_type": "code",
   "execution_count": null,
   "metadata": {},
   "outputs": [],
   "source": []
  },
  {
   "cell_type": "code",
   "execution_count": 112,
   "metadata": {},
   "outputs": [],
   "source": [
    "from dotenv import load_dotenv\n",
    "import openai\n",
    "import os\n",
    "\n",
    "load_dotenv()\n",
    "OPENAI_API_KEY = os.getenv(\"OPENAI_API_KEY\") \n",
    "OPENAI_DEPLOYMENT_ENDPOINT = os.getenv(\"OPENAI_DEPLOYMENT_ENDPOINT\")\n",
    "OPENAI_DEPLOYMENT_NAME = os.getenv(\"OPENAI_DEPLOYMENT_NAME\")\n",
    "OPENAI_MODEL_NAME = os.getenv(\"OPENAI_MODEL_NAME\")\n",
    "OPENAI_DEPLOYMENT_VERSION = os.getenv(\"OPENAI_DEPLOYMENT_VERSION\")\n",
    "\n",
    "COMPUTER_VISION_ENDPOINT = os.getenv(\"COMPUTER_VISION_ENDPOINT\")\n",
    "COMPUTER_VISION_KEY = os.getenv(\"COMPUTER_VISION_KEY\")\n",
    "\n",
    "\n",
    "# Configure OpenAI API\n",
    "openai.api_type = \"azure\"\n",
    "openai.api_version = OPENAI_DEPLOYMENT_VERSION\n",
    "openai.api_base = OPENAI_DEPLOYMENT_ENDPOINT\n",
    "openai.api_key = OPENAI_API_KEY"
   ]
  },
  {
   "cell_type": "code",
   "execution_count": null,
   "metadata": {},
   "outputs": [],
   "source": [
    "print(OPENAI_API_KEY)\n",
    "print(COMPUTER_VISION_ENDPOINT)\n",
    "print(COMPUTER_VISION_KEY)"
   ]
  },
  {
   "cell_type": "code",
   "execution_count": 36,
   "metadata": {},
   "outputs": [],
   "source": [
    "key = COMPUTER_VISION_KEY\n",
    "endpoint = COMPUTER_VISION_ENDPOINT"
   ]
  },
  {
   "cell_type": "code",
   "execution_count": 106,
   "metadata": {},
   "outputs": [],
   "source": [
    "client = ComputerVisionClient(endpoint=endpoint, credentials=CognitiveServicesCredentials(key))"
   ]
  },
  {
   "cell_type": "code",
   "execution_count": 102,
   "metadata": {},
   "outputs": [
    {
     "name": "stdout",
     "output_type": "stream",
     "text": [
      ".\n"
     ]
    }
   ],
   "source": [
    "images_list = []\n",
    "cropped_images_paths = []\n",
    "cropped_images_list = []\n",
    "working_directory = pathlib.Path (\"./\")\n",
    "os.makedirs(os.path.join (\"./\", 'cropped_images'), exist_ok=True)\n",
    "print (working_directory)"
   ]
  },
  {
   "cell_type": "code",
   "execution_count": 103,
   "metadata": {},
   "outputs": [],
   "source": [
    "# Create an Image object from each image in a the Images folder.\n",
    "for image_path in working_directory.glob('images/*.jpg'):  # assume all images are jpg\n",
    "    imageObject = Image.open(image_path)\n",
    "    images_list.append(imageObject)\n",
    "    cropped_images_paths.append(pathlib.Path (str(image_path).replace('images', 'cropped_images')))\n",
    "\n",
    "# Optional, draw bounding box around desired line of text, show "
   ]
  },
  {
   "cell_type": "code",
   "execution_count": 83,
   "metadata": {},
   "outputs": [
    {
     "name": "stdout",
     "output_type": "stream",
     "text": [
      "Images to be cropped:[PosixPath('cropped_images/IMG_0217.jpg'), PosixPath('cropped_images/IMG_0211.jpg'), PosixPath('cropped_images/IMG_0212.jpg'), PosixPath('cropped_images/IMG_0217.jpg'), PosixPath('cropped_images/IMG_0211.jpg'), PosixPath('cropped_images/IMG_0212.jpg')]\n"
     ]
    }
   ],
   "source": [
    "print(f\"Images to be cropped:{cropped_images_paths}\")"
   ]
  },
  {
   "cell_type": "code",
   "execution_count": 104,
   "metadata": {},
   "outputs": [],
   "source": [
    "# Crop each image in your list at the same place\n",
    "for image in images_list:\n",
    "    # Don't exceed your image height and width\n",
    "    # w, h = image.size\n",
    "    # print('Image width & height:', w, h)\n",
    "\n",
    "    cropped = image.crop((150,100,1500,1500)) # edges: left, top, right, bottom\n",
    "    cropped_images_list.append(cropped)"
   ]
  },
  {
   "cell_type": "code",
   "execution_count": 105,
   "metadata": {},
   "outputs": [],
   "source": [
    "for i in range(len(cropped_images_list)):\n",
    "    # Convert cropped images back to PIL.JpegImagePlugin.JpegImageFile type\n",
    "    b = BytesIO()\n",
    "    cropped_images_list[i].save(b, format=\"jpeg\")\n",
    "    cropped_images_list[i] = Image.open(b)\n",
    "    # Save cropped image to file.\n",
    "    cropped_images_list[i].save(cropped_images_paths[i], format=\"jpeg\")    \n",
    "    b.close()"
   ]
  },
  {
   "cell_type": "code",
   "execution_count": 107,
   "metadata": {},
   "outputs": [],
   "source": [
    "for cropped_image_path in cropped_images_paths:\n",
    "    cropped_bytes = open(cropped_image_path, \"rb\")\n",
    "    # Call API\n",
    "    result = client.recognize_printed_text_in_stream(cropped_bytes)"
   ]
  },
  {
   "cell_type": "code",
   "execution_count": 111,
   "metadata": {},
   "outputs": [
    {
     "name": "stdout",
     "output_type": "stream",
     "text": [
      "Server:\n",
      "Shannon\n",
      "At.\n",
      "Description\n",
      "THE\n",
      "DORIAN\n",
      "BURGER\n",
      "TRUFFLE\n",
      "FRIES\n",
      "ADD\n",
      "BACON\n",
      "CHICKEN\n",
      "SLIDERS\n",
      "THE\n",
      "DORIAN\n",
      "BURGER\n",
      "COKE\n",
      "THE\n",
      "DORIAN\n",
      "BURGER\n",
      "SUB\n",
      "CAESAR\n",
      "SALAD\n",
      "CAESAR\n",
      "SALAD\n",
      "Total\n",
      "23\n",
      "$\n",
      "3.50*\n",
      "$\n",
      "22.50*\n",
      "$\n",
      "16.00*\n",
      "02:49\n",
      "PM\n",
      "The\n",
      "Dorian\n",
      "2001\n",
      "Chestnut\n",
      "St\n",
      "12/03/2021\n",
      "23-4\n",
      "San\n",
      "Francisco,\n",
      "CA\n",
      "94123\n",
      "doriansf\n",
      ".\n",
      "com\n",
      "12/03/2021\n",
      "02:49\n",
      "PM\n",
      "The\n",
      "Dorian\n",
      "2001\n",
      "Chestnut\n",
      "St\n",
      "San\n",
      "Francisco,\n",
      "CA\n",
      "94123\n",
      "314\n",
      "Guests:\n",
      "I\n",
      "Amount\n",
      "$\n",
      "25.00*\n",
      "$\n",
      "15.00*\n",
      "$\n",
      "17.50*\n",
      "$\n",
      "99.50\n",
      "4307\n",
      "119097\n",
      "Chip\n",
      "TVR\n",
      "Merchant\n",
      "ID\n",
      "Invoice\n",
      "#\n",
      "TSI\n",
      "AID\n",
      "doriansf\n",
      ".com\n",
      "314\n",
      "Shannon\n",
      "At.\n",
      "8000008000\n",
      "000000029082\n",
      "2934503181\n",
      "6800\n",
      "A0000000041010\n",
      "$\n",
      "99.50\n",
      "Subtotal\n",
      "Health\n",
      "Ordinance\n",
      "$\n",
      "5.48\n",
      "K)\n",
      "sales\n",
      "Tax\n",
      "Check\n",
      "Total\n",
      "Split\n",
      "Payment\n",
      "$\n",
      "9.07\n",
      "$\n",
      "114.05\n",
      "*(5.5%)\n",
      "SF\n",
      "Health\n",
      "Ordinance\n",
      "$\n",
      "5.48\n",
      "$\n",
      "9.07\n",
      "Sales\n",
      "Tax\n",
      "Grand\n",
      "Total\n",
      "$\n",
      "114105\n",
      "Book\n",
      "your\n",
      "social\n",
      "or\n",
      "corporate\n",
      "event\n",
      "with\n",
      "us!\n",
      "Email\n",
      "Jazlyn@doriansf\n",
      "for\n",
      "more\n",
      "info\n",
      "Tip\n",
      "Total\n",
      "x\n",
      "$3\n",
      "IGIN\n",
      "\n"
     ]
    }
   ],
   "source": [
    "for region in result.regions:\n",
    "        for line in region.lines:\n",
    "            for word in line.words:\n",
    "                #print(\"Extracted text:\")\n",
    "                print(word.text)\n",
    "                #print()\n",
    "                #print('Bounding box for each word:')\n",
    "                #print(word.bounding_box)\n",
    "print()"
   ]
  },
  {
   "cell_type": "code",
   "execution_count": 116,
   "metadata": {},
   "outputs": [],
   "source": [
    "system_template = '''You are company financial department assistant. Your main task is to summarize the receipts.\n",
    "The summary must contain all common information required for expense reimbursement.\n",
    "More specifically is should contain the following information:\n",
    "1. Date of the receipt\n",
    "2. Vendor derails: name, address, phone number, all other information that can be useful\n",
    "3. Transaction details: amount, currency, payment method, last 4 digits of the card, date of the transaction, transaction ID, service description\n",
    "If some of the information is missing, please indicate that it is missing.\n",
    "Output result as python json object with the fields listed above.\n",
    "'''\n",
    "\n",
    "text=\"Airport Travel Agency PO Box 251567, International Terminal -- San Francisco International Airport San Francisco, CA 94125 (650) 877-0422 PURCHASE Authorization 348413 Receipt 50WW Mastercard AID AO 00 00 00 04 10 10 Small Small Total MasterCard 4307 (Chip) Vladislav Feigin Dec 3, 2021 8:24 AM S20.oo S20.oo $20.00 SAVE $5 OFF NAP ROOMS & SHOWERS AT FRESHEN UP WHEN YOU STORE BAGS AT AIRPORT TRAVEL AGENCY Return Policy: NO REFUNDS FOR BAGGAGE STORAGE\""
   ]
  },
  {
   "cell_type": "code",
   "execution_count": 121,
   "metadata": {},
   "outputs": [
    {
     "name": "stdout",
     "output_type": "stream",
     "text": [
      "{\n",
      "   \"Date\":\"Dec 3, 2021 8:24 AM\",\n",
      "   \"Vendor\":{\n",
      "      \"Name\":\"Airport Travel Agency\",\n",
      "      \"Address\":\"PO Box 251567, International Terminal -- San Francisco International Airport San Francisco, CA 94125\",\n",
      "      \"Phone\":\"(650) 877-0422\"\n",
      "   },\n",
      "   \"Transaction\":{\n",
      "      \"Amount\":\"$20.00\",\n",
      "      \"Currency\":\"USD\",\n",
      "      \"Payment Method\":\"Mastercard\",\n",
      "      \"Last 4 Digits of Card\":\"4307\",\n",
      "      \"Transaction ID\":\"348413\",\n",
      "      \"Service Description\":\"SAVE $5 OFF NAP ROOMS & SHOWERS AT FRESHEN UP WHEN YOU STORE BAGS AT AIRPORT TRAVEL AGENCY\"\n",
      "   }\n",
      "}\n"
     ]
    }
   ],
   "source": [
    "# prepare prompt\n",
    "messages = [{\"role\": \"system\", \"content\": f\"{system_template}\"},\n",
    "            {\"role\": \"user\", \"content\": f\"{text}\"}]\n",
    "\n",
    "\n",
    "answer = openai.ChatCompletion.create(engine=OPENAI_DEPLOYMENT_NAME,\n",
    "\n",
    "                                      messages=messages,)\n",
    "\n",
    "print(answer.choices[0].message.content)"
   ]
  }
 ],
 "metadata": {
  "kernelspec": {
   "display_name": ".venv",
   "language": "python",
   "name": "python3"
  },
  "language_info": {
   "codemirror_mode": {
    "name": "ipython",
    "version": 3
   },
   "file_extension": ".py",
   "mimetype": "text/x-python",
   "name": "python",
   "nbconvert_exporter": "python",
   "pygments_lexer": "ipython3",
   "version": "3.11.4"
  },
  "orig_nbformat": 4
 },
 "nbformat": 4,
 "nbformat_minor": 2
}
